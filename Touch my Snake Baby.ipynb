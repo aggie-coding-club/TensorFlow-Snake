{
 "cells": [
  {
   "cell_type": "code",
   "execution_count": null,
   "metadata": {
    "collapsed": true
   },
   "outputs": [],
   "source": [
    "import tensorflow as tf\n",
    "import numpy as np"
   ]
  },
  {
   "cell_type": "code",
   "execution_count": null,
   "metadata": {
    "collapsed": true
   },
   "outputs": [],
   "source": [
    "learning_rate = 0\n",
    "number_of_games = 0\n",
    "batch_size = 1\n",
    "epsilon = 1;\n",
    "\n",
    "n_input = 50*50\n",
    "\n",
    "# 50*50 states * 4 actions (up down left right)\n",
    "\n",
    "\n",
    "#inputs = tf.placeholder(shape=[1,n_input], dtype = tf.float32)\n",
    "#weights = tf.Variable(tf.random_uniform([n_input,4], 0, 0.01))\n",
    "#Q_out = tf.matmul(inputs, weights)\n",
    "#predict = tf.argmax(Q_out, 1)\n",
    "\n",
    "actions = board.setRight, board.setLeft, board.setUp, board.setDown"
   ]
  },
  {
   "cell_type": "code",
   "execution_count": null,
   "metadata": {
    "collapsed": true
   },
   "outputs": [],
   "source": [
    "def get_state(board):\n",
    "    state = np.array[(20,20)]\n",
    "    for x in range(0,20):\n",
    "        for y in range(0,20):\n",
    "            state[x,y] = ' '\n",
    "    state[board.snake.getX(),board.snake.getY()] = '>' # head\n",
    "    state[board.apple.getX(), board.apple.getY()] = 'o' # apple\n",
    "    # body\n",
    "    for i in range(1, len(board.snake)):\n",
    "        state[board.snake[i].getX(), board.snake[i].getY()] = '='\n",
    "    return state"
   ]
  },
  {
   "cell_type": "code",
   "execution_count": null,
   "metadata": {
    "collapsed": true
   },
   "outputs": [],
   "source": [
    "def main():\n",
    "    for i in range (0, number_of_games):\n",
    "        while game_in_progress:\n",
    "            state = get_state(board)\n",
    "            qval = model.predict(state.reshape(1,20*20*4), batch_size=1)\n",
    "            \n",
    "            if (random.random() < epsilon) \n",
    "                action = np.random.randint(0,4)\n",
    "            else: # choose best action\n",
    "                action = (np.argmax(qval))\n",
    "                \n",
    "            if(action == 0): \n",
    "                board.setRight\n",
    "            elif(action == 1):\n",
    "                board.setLeft\n",
    "            elif(action == 2):\n",
    "                board.setUp\n",
    "            elif(action == 3):\n",
    "                board.setDown\n",
    "            board.move()\n",
    "            new_state = board.get_state()\n",
    "            r = board.get_reward()\n",
    "            new_Q = model.predict(new_state.reshape(1,19*19*4,bath_size=1)\n",
    "            max_Q = np.max(new_Q)\n",
    "            stored_qvals = np.zeros((1,4))\n",
    "            stored_qvals[:] = qval[:]\n",
    "            if (r == 1):\n",
    "                stored_qvals[0][action] = (r + (gamma * max_Q))\n",
    "            elif (r == 10):\n",
    "                stored_qvals[0][action] = r\n",
    "            if (epsilon > 0.1):\n",
    "                epsilon -= 1/number_of_games\n",
    "        root.mainloop() # I'm just assuming this advances"
   ]
  }
 ],
 "metadata": {
  "kernelspec": {
   "display_name": "Python 3",
   "language": "python",
   "name": "python3"
  },
  "language_info": {
   "codemirror_mode": {
    "name": "ipython",
    "version": 3
   },
   "file_extension": ".py",
   "mimetype": "text/x-python",
   "name": "python",
   "nbconvert_exporter": "python",
   "pygments_lexer": "ipython3",
   "version": "3.6.3"
  }
 },
 "nbformat": 4,
 "nbformat_minor": 2
}
